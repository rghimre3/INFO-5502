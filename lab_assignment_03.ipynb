{
  "cells": [
    {
      "cell_type": "markdown",
      "metadata": {
        "id": "view-in-github",
        "colab_type": "text"
      },
      "source": [
        "<a href=\"https://colab.research.google.com/github/rghimre3/Ramesh_ghimire_INFO-5502_summer2022/blob/main/lab_assignment_03.ipynb\" target=\"_parent\"><img src=\"https://colab.research.google.com/assets/colab-badge.svg\" alt=\"Open In Colab\"/></a>"
      ]
    },
    {
      "cell_type": "markdown",
      "metadata": {
        "id": "eHSvjFY66EUn"
      },
      "source": [
        "## The third Lab-assignment (07/22/2022 11:59'AM' - 07/26/2022 11:59PM, 50 points in total)"
      ]
    },
    {
      "cell_type": "markdown",
      "metadata": {
        "id": "aJf5_FMo6EUz"
      },
      "source": [
        "The purpose of this exercise is to understand users' information needs, then collect data from different sources for analysis."
      ]
    },
    {
      "cell_type": "markdown",
      "metadata": {
        "id": "K7PTa_NM6EU1"
      },
      "source": [
        "Question 1 (10 points). Fomulate your domain problem: Describe an interesting research question (or practical question) you have in mind, what kind of data should be collected to answer the question(s)? How many data needed for the analysis? The detail steps for collecting and save the data. "
      ]
    },
    {
      "cell_type": "code",
      "execution_count": 47,
      "metadata": {
        "id": "gU0SkIyW6EU2",
        "colab": {
          "base_uri": "https://localhost:8080/",
          "height": 105
        },
        "outputId": "6b323ee9-8927-4d11-8bda-8f45d9bb364d"
      },
      "outputs": [
        {
          "output_type": "execute_result",
          "data": {
            "text/plain": [
              "'\\nPlease write you answer here:\\n\\nAustin community survey measures the satifaction of the city resident on varius aspect of life of community. \\nThis survey is administed by third party and provides valuable insights for the strategic planning to the city mayor his adminitration. As Austin is fastest growing city in US,this type of survey \\ngives the city planner to answers and find solutions to emerging problems or the problems that may arise in future.\\n\\nSome of the interesting reserach questions:\\n1. Is there correlation between sefe neighbourhood and overall quality of life? Is qulaity of life fluctuate depending on if an individula attended cultural evetnt in last 6 months?\\n2. Is there a relationship btween the cost of public transportation versus the city safety during day/night?\\n3. How do we determine if the city resident likley participate in the comminicaty survey based on the their involvement in city provided lifelong learning activites?\\n4. How do we predict the outcome of election base on prior year comminuty survey? \\n5. Are the people who patticipated in survery likely participate in election process? What is statistical probabilties?\\n\\n\\nData needed for analyisis:\\nThis is yarly community data and hstorical view is really useful to see the trand and compared with other similar data like election participants.\\nAs the community survery is basically for the city performance against ht plan, multiple years and source data is useful to develip analytivcs\\nThis data data s 10.6k rows tall and 56 columns wide which can be access through ciyt of austin data portal . Below link ditretcs toeward the data adnd also has metadata\\nhttps://data.austintexas.gov/Budget-and-Finance/Strategic-Measure_Community-Survey-Reporting-Datas/9afg-f72h\\n'"
            ],
            "application/vnd.google.colaboratory.intrinsic+json": {
              "type": "string"
            }
          },
          "metadata": {},
          "execution_count": 47
        }
      ],
      "source": [
        "# Your answer here (no code for this question, write down your answer as detail as possible for the above questions):\n",
        "\n",
        "'''\n",
        "Please write you answer here:\n",
        "\n",
        "Austin community survey measures the satifaction of the city resident on varius aspect of life of community. \n",
        "This survey is administed by third party and provides valuable insights for the strategic planning to the city mayor his adminitration. As Austin is fastest growing city in US,this type of survey \n",
        "gives the city planner to answers and find solutions to emerging problems or the problems that may arise in future.\n",
        "\n",
        "Some of the interesting reserach questions:\n",
        "1. Is there correlation between sefe neighbourhood and overall quality of life? Is qulaity of life fluctuate depending on if an individula attended cultural evetnt in last 6 months?\n",
        "2. Is there a relationship btween the cost of public transportation versus the city safety during day/night?\n",
        "3. How do we determine if the city resident likley participate in the comminicaty survey based on the their involvement in city provided lifelong learning activites?\n",
        "4. How do we predict the outcome of election base on prior year comminuty survey? \n",
        "5. Are the people who patticipated in survery likely participate in election process? What is statistical probabilties?\n",
        "\n",
        "\n",
        "Data needed for analyisis:\n",
        "This is yarly community data and hstorical view is really useful to see the trand and compared with other similar data like election participants.\n",
        "As the community survery is basically for the city performance against ht plan, multiple years and source data is useful to develip analytivcs\n",
        "This data data s 10.6k rows tall and 56 columns wide which can be access through ciyt of austin data portal . Below link ditretcs toeward the data adnd also has metadata\n",
        "https://data.austintexas.gov/Budget-and-Finance/Strategic-Measure_Community-Survey-Reporting-Datas/9afg-f72h\n",
        "'''"
      ]
    },
    {
      "cell_type": "markdown",
      "metadata": {
        "id": "ixamKrg_6EU6"
      },
      "source": [
        "Question 2 (30 points). Collect your data to answer the research problem: Write python code to collect 1000 data samples you discussed above."
      ]
    },
    {
      "cell_type": "code",
      "execution_count": 46,
      "metadata": {
        "id": "ZWgcXJSr6EU8",
        "colab": {
          "base_uri": "https://localhost:8080/"
        },
        "outputId": "a4a14717-152b-490d-a186-361efad3936e"
      },
      "outputs": [
        {
          "output_type": "stream",
          "name": "stdout",
          "text": [
            "Total samples number of obs 1000\n"
          ]
        }
      ],
      "source": [
        "# You code here (Please add comments in the code):\n",
        "\n",
        "# Austin community survey\n",
        "#https://data.austintexas.gov/resource/9afg-f72h.json\n",
        "\n",
        "import pandas as pd\n",
        "df = pd.read_csv('https://data.austintexas.gov/resource/s2py-ceb7.csv')\n",
        "#bring only 1000 rows only sample\n",
        "Austin_df = df.sample(n = 1000)  \n",
        "print(\"Total samples number of obs {0}\".format(len(Austin_df)))\n",
        "\n"
      ]
    },
    {
      "cell_type": "code",
      "source": [
        "df1.head(5)"
      ],
      "metadata": {
        "colab": {
          "base_uri": "https://localhost:8080/",
          "height": 386
        },
        "id": "2NCiIsc09eiB",
        "outputId": "c8e6af8e-7a97-4b4c-ecea-2146751301ad"
      },
      "execution_count": 21,
      "outputs": [
        {
          "output_type": "execute_result",
          "data": {
            "text/plain": [
              "         id                     year  clla5overall_quality_of_life_in  \\\n",
              "0  20151490  2015-01-01T00:00:00.000                                3   \n",
              "1  20175898  2017-01-01T00:00:00.000                                4   \n",
              "2  20151188  2015-01-01T00:00:00.000                                5   \n",
              "3  20175935  2017-01-01T00:00:00.000                                3   \n",
              "4   2015549  2015-01-01T00:00:00.000                                4   \n",
              "\n",
              "   clla5_have_you_participated_in  hec3overall_quality_of_city_of  \\\n",
              "0                               0                               3   \n",
              "1                               0                               3   \n",
              "2                               1                               4   \n",
              "3                               0                               4   \n",
              "4                               0                               9   \n",
              "\n",
              "   hec3quality_of_city_of_austin  he_c_3_weighted_measure  \\\n",
              "0                              3                   0.6257   \n",
              "1                              3                   0.6448   \n",
              "2                              3                   0.6257   \n",
              "3                              3                   0.6448   \n",
              "4                              9                   0.6257   \n",
              "\n",
              "   sa1i_feel_safe_in_my_neighborhood  sa1i_feel_safe_in_my_neighborhood_1  \\\n",
              "0                                  4                                    3   \n",
              "1                                  4                                    4   \n",
              "2                                  4                                    4   \n",
              "3                                  4                                    3   \n",
              "4                                  4                                    4   \n",
              "\n",
              "   sa1i_feel_safe_walking_alone  ...  gtwc2_gtwf1overall_quality_of_services  \\\n",
              "0                             2  ...                                       2   \n",
              "1                             2  ...                                       4   \n",
              "2                             4  ...                                       4   \n",
              "3                             4  ...                                       2   \n",
              "4                             4  ...                                       4   \n",
              "\n",
              "   gtwc3overall_value_that_you_receive  gtwg1employees_of_the_city_of    city  \\\n",
              "0                                    2                              4  Austin   \n",
              "1                                    3                              3  Austin   \n",
              "2                                    4                              4  Austin   \n",
              "3                                    2                              4  Austin   \n",
              "4                                    4                              4  Austin   \n",
              "\n",
              "   council_district  block_level_x_longitude  block_level_y_latitude method  \\\n",
              "0                 4                  -97.708                  30.368    NaN   \n",
              "1                 2                  -97.892                  30.193   Mail   \n",
              "2                 9                  -97.713                  30.289    NaN   \n",
              "3                 9                  -97.856                  30.208   Mail   \n",
              "4                 7                  -97.721                  30.362    NaN   \n",
              "\n",
              "   me2overall_maintenance_of_city  gtwe3the_city_s_effort_to_support  \n",
              "0                             NaN                                NaN  \n",
              "1                             1.0                                3.0  \n",
              "2                             NaN                                NaN  \n",
              "3                             2.0                                2.0  \n",
              "4                             NaN                                NaN  \n",
              "\n",
              "[5 rows x 24 columns]"
            ],
            "text/html": [
              "\n",
              "  <div id=\"df-a60a13ea-2ee4-4455-b4c4-5f782bcdb6d1\">\n",
              "    <div class=\"colab-df-container\">\n",
              "      <div>\n",
              "<style scoped>\n",
              "    .dataframe tbody tr th:only-of-type {\n",
              "        vertical-align: middle;\n",
              "    }\n",
              "\n",
              "    .dataframe tbody tr th {\n",
              "        vertical-align: top;\n",
              "    }\n",
              "\n",
              "    .dataframe thead th {\n",
              "        text-align: right;\n",
              "    }\n",
              "</style>\n",
              "<table border=\"1\" class=\"dataframe\">\n",
              "  <thead>\n",
              "    <tr style=\"text-align: right;\">\n",
              "      <th></th>\n",
              "      <th>id</th>\n",
              "      <th>year</th>\n",
              "      <th>clla5overall_quality_of_life_in</th>\n",
              "      <th>clla5_have_you_participated_in</th>\n",
              "      <th>hec3overall_quality_of_city_of</th>\n",
              "      <th>hec3quality_of_city_of_austin</th>\n",
              "      <th>he_c_3_weighted_measure</th>\n",
              "      <th>sa1i_feel_safe_in_my_neighborhood</th>\n",
              "      <th>sa1i_feel_safe_in_my_neighborhood_1</th>\n",
              "      <th>sa1i_feel_safe_walking_alone</th>\n",
              "      <th>...</th>\n",
              "      <th>gtwc2_gtwf1overall_quality_of_services</th>\n",
              "      <th>gtwc3overall_value_that_you_receive</th>\n",
              "      <th>gtwg1employees_of_the_city_of</th>\n",
              "      <th>city</th>\n",
              "      <th>council_district</th>\n",
              "      <th>block_level_x_longitude</th>\n",
              "      <th>block_level_y_latitude</th>\n",
              "      <th>method</th>\n",
              "      <th>me2overall_maintenance_of_city</th>\n",
              "      <th>gtwe3the_city_s_effort_to_support</th>\n",
              "    </tr>\n",
              "  </thead>\n",
              "  <tbody>\n",
              "    <tr>\n",
              "      <th>0</th>\n",
              "      <td>20151490</td>\n",
              "      <td>2015-01-01T00:00:00.000</td>\n",
              "      <td>3</td>\n",
              "      <td>0</td>\n",
              "      <td>3</td>\n",
              "      <td>3</td>\n",
              "      <td>0.6257</td>\n",
              "      <td>4</td>\n",
              "      <td>3</td>\n",
              "      <td>2</td>\n",
              "      <td>...</td>\n",
              "      <td>2</td>\n",
              "      <td>2</td>\n",
              "      <td>4</td>\n",
              "      <td>Austin</td>\n",
              "      <td>4</td>\n",
              "      <td>-97.708</td>\n",
              "      <td>30.368</td>\n",
              "      <td>NaN</td>\n",
              "      <td>NaN</td>\n",
              "      <td>NaN</td>\n",
              "    </tr>\n",
              "    <tr>\n",
              "      <th>1</th>\n",
              "      <td>20175898</td>\n",
              "      <td>2017-01-01T00:00:00.000</td>\n",
              "      <td>4</td>\n",
              "      <td>0</td>\n",
              "      <td>3</td>\n",
              "      <td>3</td>\n",
              "      <td>0.6448</td>\n",
              "      <td>4</td>\n",
              "      <td>4</td>\n",
              "      <td>2</td>\n",
              "      <td>...</td>\n",
              "      <td>4</td>\n",
              "      <td>3</td>\n",
              "      <td>3</td>\n",
              "      <td>Austin</td>\n",
              "      <td>2</td>\n",
              "      <td>-97.892</td>\n",
              "      <td>30.193</td>\n",
              "      <td>Mail</td>\n",
              "      <td>1.0</td>\n",
              "      <td>3.0</td>\n",
              "    </tr>\n",
              "    <tr>\n",
              "      <th>2</th>\n",
              "      <td>20151188</td>\n",
              "      <td>2015-01-01T00:00:00.000</td>\n",
              "      <td>5</td>\n",
              "      <td>1</td>\n",
              "      <td>4</td>\n",
              "      <td>3</td>\n",
              "      <td>0.6257</td>\n",
              "      <td>4</td>\n",
              "      <td>4</td>\n",
              "      <td>4</td>\n",
              "      <td>...</td>\n",
              "      <td>4</td>\n",
              "      <td>4</td>\n",
              "      <td>4</td>\n",
              "      <td>Austin</td>\n",
              "      <td>9</td>\n",
              "      <td>-97.713</td>\n",
              "      <td>30.289</td>\n",
              "      <td>NaN</td>\n",
              "      <td>NaN</td>\n",
              "      <td>NaN</td>\n",
              "    </tr>\n",
              "    <tr>\n",
              "      <th>3</th>\n",
              "      <td>20175935</td>\n",
              "      <td>2017-01-01T00:00:00.000</td>\n",
              "      <td>3</td>\n",
              "      <td>0</td>\n",
              "      <td>4</td>\n",
              "      <td>3</td>\n",
              "      <td>0.6448</td>\n",
              "      <td>4</td>\n",
              "      <td>3</td>\n",
              "      <td>4</td>\n",
              "      <td>...</td>\n",
              "      <td>2</td>\n",
              "      <td>2</td>\n",
              "      <td>4</td>\n",
              "      <td>Austin</td>\n",
              "      <td>9</td>\n",
              "      <td>-97.856</td>\n",
              "      <td>30.208</td>\n",
              "      <td>Mail</td>\n",
              "      <td>2.0</td>\n",
              "      <td>2.0</td>\n",
              "    </tr>\n",
              "    <tr>\n",
              "      <th>4</th>\n",
              "      <td>2015549</td>\n",
              "      <td>2015-01-01T00:00:00.000</td>\n",
              "      <td>4</td>\n",
              "      <td>0</td>\n",
              "      <td>9</td>\n",
              "      <td>9</td>\n",
              "      <td>0.6257</td>\n",
              "      <td>4</td>\n",
              "      <td>4</td>\n",
              "      <td>4</td>\n",
              "      <td>...</td>\n",
              "      <td>4</td>\n",
              "      <td>4</td>\n",
              "      <td>4</td>\n",
              "      <td>Austin</td>\n",
              "      <td>7</td>\n",
              "      <td>-97.721</td>\n",
              "      <td>30.362</td>\n",
              "      <td>NaN</td>\n",
              "      <td>NaN</td>\n",
              "      <td>NaN</td>\n",
              "    </tr>\n",
              "  </tbody>\n",
              "</table>\n",
              "<p>5 rows × 24 columns</p>\n",
              "</div>\n",
              "      <button class=\"colab-df-convert\" onclick=\"convertToInteractive('df-a60a13ea-2ee4-4455-b4c4-5f782bcdb6d1')\"\n",
              "              title=\"Convert this dataframe to an interactive table.\"\n",
              "              style=\"display:none;\">\n",
              "        \n",
              "  <svg xmlns=\"http://www.w3.org/2000/svg\" height=\"24px\"viewBox=\"0 0 24 24\"\n",
              "       width=\"24px\">\n",
              "    <path d=\"M0 0h24v24H0V0z\" fill=\"none\"/>\n",
              "    <path d=\"M18.56 5.44l.94 2.06.94-2.06 2.06-.94-2.06-.94-.94-2.06-.94 2.06-2.06.94zm-11 1L8.5 8.5l.94-2.06 2.06-.94-2.06-.94L8.5 2.5l-.94 2.06-2.06.94zm10 10l.94 2.06.94-2.06 2.06-.94-2.06-.94-.94-2.06-.94 2.06-2.06.94z\"/><path d=\"M17.41 7.96l-1.37-1.37c-.4-.4-.92-.59-1.43-.59-.52 0-1.04.2-1.43.59L10.3 9.45l-7.72 7.72c-.78.78-.78 2.05 0 2.83L4 21.41c.39.39.9.59 1.41.59.51 0 1.02-.2 1.41-.59l7.78-7.78 2.81-2.81c.8-.78.8-2.07 0-2.86zM5.41 20L4 18.59l7.72-7.72 1.47 1.35L5.41 20z\"/>\n",
              "  </svg>\n",
              "      </button>\n",
              "      \n",
              "  <style>\n",
              "    .colab-df-container {\n",
              "      display:flex;\n",
              "      flex-wrap:wrap;\n",
              "      gap: 12px;\n",
              "    }\n",
              "\n",
              "    .colab-df-convert {\n",
              "      background-color: #E8F0FE;\n",
              "      border: none;\n",
              "      border-radius: 50%;\n",
              "      cursor: pointer;\n",
              "      display: none;\n",
              "      fill: #1967D2;\n",
              "      height: 32px;\n",
              "      padding: 0 0 0 0;\n",
              "      width: 32px;\n",
              "    }\n",
              "\n",
              "    .colab-df-convert:hover {\n",
              "      background-color: #E2EBFA;\n",
              "      box-shadow: 0px 1px 2px rgba(60, 64, 67, 0.3), 0px 1px 3px 1px rgba(60, 64, 67, 0.15);\n",
              "      fill: #174EA6;\n",
              "    }\n",
              "\n",
              "    [theme=dark] .colab-df-convert {\n",
              "      background-color: #3B4455;\n",
              "      fill: #D2E3FC;\n",
              "    }\n",
              "\n",
              "    [theme=dark] .colab-df-convert:hover {\n",
              "      background-color: #434B5C;\n",
              "      box-shadow: 0px 1px 3px 1px rgba(0, 0, 0, 0.15);\n",
              "      filter: drop-shadow(0px 1px 2px rgba(0, 0, 0, 0.3));\n",
              "      fill: #FFFFFF;\n",
              "    }\n",
              "  </style>\n",
              "\n",
              "      <script>\n",
              "        const buttonEl =\n",
              "          document.querySelector('#df-a60a13ea-2ee4-4455-b4c4-5f782bcdb6d1 button.colab-df-convert');\n",
              "        buttonEl.style.display =\n",
              "          google.colab.kernel.accessAllowed ? 'block' : 'none';\n",
              "\n",
              "        async function convertToInteractive(key) {\n",
              "          const element = document.querySelector('#df-a60a13ea-2ee4-4455-b4c4-5f782bcdb6d1');\n",
              "          const dataTable =\n",
              "            await google.colab.kernel.invokeFunction('convertToInteractive',\n",
              "                                                     [key], {});\n",
              "          if (!dataTable) return;\n",
              "\n",
              "          const docLinkHtml = 'Like what you see? Visit the ' +\n",
              "            '<a target=\"_blank\" href=https://colab.research.google.com/notebooks/data_table.ipynb>data table notebook</a>'\n",
              "            + ' to learn more about interactive tables.';\n",
              "          element.innerHTML = '';\n",
              "          dataTable['output_type'] = 'display_data';\n",
              "          await google.colab.output.renderOutput(dataTable, element);\n",
              "          const docLink = document.createElement('div');\n",
              "          docLink.innerHTML = docLinkHtml;\n",
              "          element.appendChild(docLink);\n",
              "        }\n",
              "      </script>\n",
              "    </div>\n",
              "  </div>\n",
              "  "
            ]
          },
          "metadata": {},
          "execution_count": 21
        }
      ]
    },
    {
      "cell_type": "markdown",
      "metadata": {
        "id": "n9r3mPZL6EU_"
      },
      "source": [
        "Question 3 (10 points). Understand the data quality: Search a second hand dataset (any dataset) from kaggle or other websites. Describe the data quality problem of the dataset and explain your strtegy to clean the data."
      ]
    },
    {
      "cell_type": "code",
      "execution_count": null,
      "metadata": {
        "id": "0zceGLPJ6EVA"
      },
      "outputs": [],
      "source": [
        "# Your answer here (no code for this question, write down your answer as detail as possible for the above questions):\n",
        "'''\n",
        "\n",
        "--> Please write you answer here:\n",
        "\n",
        "The happyness report data from Kaggle is the data set found in this lnk : https://www.kaggle.com/datasets/unsdsn/world-happiness/code\n",
        "\n",
        "The data is about the world happiness report and there are lost of variable that be used to predict or find correaltion between like happyness vs generosity. We can also look at different visulaization based on region and countries.\n",
        "This data is widely used and is a good starter  data for data science project. \n",
        "The data is very small however,it lacks some of the metadata and column defination are ambigoius for examle 'Family'.\n",
        "\n",
        "Becasue the data is small, this mightnot be a good machine learning data input as train and test data could be really small. \n",
        "The data has some null which could be replaced with 0 ( Null and zero are entirely different, but the nature of data accepst 0 than other value like mean , \n",
        "mode or avarage becaus the it is based on each country specific, value of column varies greatly)\n",
        "\n",
        "\n",
        "\n",
        "\n",
        "\n",
        "'''"
      ]
    }
  ],
  "metadata": {
    "kernelspec": {
      "display_name": "Python 3 (ipykernel)",
      "language": "python",
      "name": "python3"
    },
    "language_info": {
      "codemirror_mode": {
        "name": "ipython",
        "version": 3
      },
      "file_extension": ".py",
      "mimetype": "text/x-python",
      "name": "python",
      "nbconvert_exporter": "python",
      "pygments_lexer": "ipython3",
      "version": "3.9.12"
    },
    "vscode": {
      "interpreter": {
        "hash": "5c6a7f839effdddf35473dacbb9a8184e57ebbba5133cab03b12e4f28d4f0d0f"
      }
    },
    "colab": {
      "name": "lab_assignment_03.ipynb",
      "provenance": [],
      "include_colab_link": true
    }
  },
  "nbformat": 4,
  "nbformat_minor": 0
}