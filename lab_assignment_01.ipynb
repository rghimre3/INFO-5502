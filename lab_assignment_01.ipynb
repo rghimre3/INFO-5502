{
  "cells": [
    {
      "cell_type": "markdown",
      "metadata": {
        "id": "view-in-github",
        "colab_type": "text"
      },
      "source": [
        "<a href=\"https://colab.research.google.com/github/rghimre3/Ramesh_ghimire_INFO-5502_summer2022/blob/main/lab_assignment_01.ipynb\" target=\"_parent\"><img src=\"https://colab.research.google.com/assets/colab-badge.svg\" alt=\"Open In Colab\"/></a>"
      ]
    },
    {
      "cell_type": "markdown",
      "metadata": {
        "id": "DymRJbxDBCnf"
      },
      "source": [
        "# **The first Lab-assignment (07/15/2022 11:59'AM' to 7/19/2022 11:59PM, 50 points in total)**"
      ]
    },
    {
      "cell_type": "markdown",
      "metadata": {
        "id": "jJDe71iLB616"
      },
      "source": [
        "(1) Write a Python program to count the number of characters in a string. (6 points)\n",
        "\n",
        "Sample String : 'google.com', \n",
        "\n",
        "Expected Result : {'o': 3, 'g': 2, '.': 1, 'e': 1, 'l': 1, 'm': 1, 'c': 1}"
      ]
    },
    {
      "cell_type": "code",
      "execution_count": 1,
      "metadata": {
        "colab": {
          "base_uri": "https://localhost:8080/"
        },
        "id": "MtKskTzbCLaU",
        "outputId": "4d6d6481-df45-446c-f793-e43e7812e750"
      },
      "outputs": [
        {
          "output_type": "stream",
          "name": "stdout",
          "text": [
            "Type your word: sjfdhsadfkjah\n",
            "Below is your letter frequency\n",
            "{'s': 2, 'j': 2, 'f': 2, 'd': 2, 'h': 2, 'a': 2, 'k': 1}\n"
          ]
        }
      ],
      "source": [
        "word=input(\"Type your word: \")\n",
        "#this function counts the frequency of letters in a word\n",
        "def character_counter(str1):\n",
        "    dict= {}\n",
        "    for n in str1:\n",
        "        keys = dict.keys()\n",
        "        if n in keys:\n",
        "           dict[n] +=1\n",
        "        else:\n",
        "          dict[n]=1\n",
        "    return dict\n",
        "print (\"Below is your letter frequency\")\n",
        "print(character_counter(word))"
      ]
    },
    {
      "cell_type": "markdown",
      "metadata": {
        "id": "55W9AMdXCSpV"
      },
      "source": [
        "(2) Write a Python program to sum all the items in a list. (6 points)"
      ]
    },
    {
      "cell_type": "code",
      "execution_count": 17,
      "metadata": {
        "colab": {
          "base_uri": "https://localhost:8080/"
        },
        "id": "I57NXsauCec2",
        "outputId": "1f260cf4-a722-4178-f52d-161d21951266"
      },
      "outputs": [
        {
          "output_type": "stream",
          "name": "stdout",
          "text": [
            "Enter numbers separated by comma  2,4\n",
            "\n",
            "\n",
            "['2', '4']\n",
            "\n",
            "\n",
            "The sum of the list is  6\n"
          ]
        }
      ],
      "source": [
        "list1=input(\"Enter numbers separated by comma  \")\n",
        "print('\\n')\n",
        "list2=list1.split(\",\")   #splitting \n",
        "print(list2)\n",
        "print('\\n')\n",
        "for i in range(len(list2)):\n",
        "  list2[i]=int(list2[i])\n",
        "def sum1(args):   #defining the function\n",
        "  sum2=0\n",
        "  for i in list2: # cnverting the list into int data type\n",
        "    sum2 += i\n",
        "  return sum2\n",
        "\n",
        "print(\"The sum of the list is \" , sum1(list2))\n"
      ]
    },
    {
      "cell_type": "markdown",
      "metadata": {
        "id": "4ulBZ6yhCi9F"
      },
      "source": [
        "(3) Write a Python program to get a string from a given string where all occurrences of its first char have been changed to '\\$', except the first char itself. (6 points)\n",
        "\n",
        "Sample String : 'restart', \n",
        "\n",
        "Expected Result : 'resta\\$t'"
      ]
    },
    {
      "cell_type": "code",
      "execution_count": 7,
      "metadata": {
        "colab": {
          "base_uri": "https://localhost:8080/"
        },
        "id": "Fj0XhwbBCw2o",
        "outputId": "ad34392a-883f-4e1a-e8c7-932491f725b7"
      },
      "outputs": [
        {
          "output_type": "stream",
          "name": "stdout",
          "text": [
            "Type your word: ramesh ghimire\n",
            "ramesh ghimi$e\n"
          ]
        }
      ],
      "source": [
        "word=input(\"Type your word: \")\n",
        "\n",
        "def first_char_Chg(str1):\n",
        "  char=str1[0]\n",
        "  str1=str1.replace(char,'$')\n",
        "  str1=char + str1[1:]\n",
        "  \n",
        "  return str1\n",
        "print(first_char_Chg(word))"
      ]
    },
    {
      "cell_type": "markdown",
      "metadata": {
        "id": "_bIP7s1MCzue"
      },
      "source": [
        "(4) Write a program with python which could accept two parameter a and b to calculate and output the result of S, where \n",
        "\n",
        "$\\ S=3.14*(1+a/b)^3$ (6 points)\n",
        "\n"
      ]
    },
    {
      "cell_type": "code",
      "execution_count": 5,
      "metadata": {
        "colab": {
          "base_uri": "https://localhost:8080/"
        },
        "id": "w79QilHXD3Mg",
        "outputId": "b1b4f9c4-8ecd-4a48-dceb-df9f169b0cfb"
      },
      "outputs": [
        {
          "output_type": "stream",
          "name": "stdout",
          "text": [
            "first num: 3\n",
            "Second num: 4\n",
            "16.8284375\n"
          ]
        }
      ],
      "source": [
        "a=int(input(\"first num: \"))\n",
        "b=int(input(\"Second num: \"))\n",
        "\n",
        "def calc(a,b):\n",
        "  S=3.14 *(1+a/b)**3\n",
        "  return S\n",
        "print(calc(a,b))\n"
      ]
    },
    {
      "cell_type": "markdown",
      "metadata": {
        "id": "xCa2bK9aD4Q3"
      },
      "source": [
        "(5) Write a Python program to concatenate following dictionaries to create a new one. (6 points)\n",
        "\n",
        "Sample Dictionary : dic1={1:10, 2:20}, dic2={3:30, 4:40}, dic3={5:50,6:60}, \n",
        "\n",
        "Expected Result : {1: 10, 2: 20, 3: 30, 4: 40, 5: 50, 6: 60}\n"
      ]
    },
    {
      "cell_type": "code",
      "execution_count": 14,
      "metadata": {
        "colab": {
          "base_uri": "https://localhost:8080/"
        },
        "id": "_z4aLqAbEET1",
        "outputId": "efc5891d-102d-401e-9c5c-4bc388028e2c"
      },
      "outputs": [
        {
          "output_type": "stream",
          "name": "stdout",
          "text": [
            "Below is new Dictionary\n",
            "{1: 10, 2: 20, 3: 30, 4: 40, 5: 50, 6: 60}\n"
          ]
        }
      ],
      "source": [
        "dic1={1:10, 2:20}\n",
        "dic2={3:30, 4:40}\n",
        "dic3={5:50, 6:60}\n",
        "dic4={**dic1,**dic2,**dic3}\n",
        "print (\"Below is new Dictionary\")\n",
        "print(dic4)\n",
        "\n"
      ]
    },
    {
      "cell_type": "markdown",
      "metadata": {
        "id": "0v48Vqa7FrQh"
      },
      "source": [
        "(6) Write a Python program to check whether an element exists within a tuple. (6 points)"
      ]
    },
    {
      "cell_type": "code",
      "execution_count": 32,
      "metadata": {
        "colab": {
          "base_uri": "https://localhost:8080/"
        },
        "id": "7WEmgq-DF2P1",
        "outputId": "7d3811ce-9980-4404-93f9-24d3e7939d5c"
      },
      "outputs": [
        {
          "output_type": "stream",
          "name": "stdout",
          "text": [
            "Enter the elements separeted by Comma  12,34,56,78,as,df,gh,jk\n",
            "\n",
            "\n",
            "<class 'tuple'>\n",
            "('12', '34', '56', '78', 'as', 'df', 'gh', 'jk')\n",
            "\n",
            "\n",
            "enter the element of the search12\n",
            "\n",
            "\n",
            "yes, ths is present in the tuple\n"
          ]
        }
      ],
      "source": [
        "tuple1=input(\"Enter the elements separeted by Comma  \")\n",
        "print(\"\\n\")\n",
        "tuple2=tuple(tuple1.split(\",\"))\n",
        "print(type(tuple2)) #just checking data types\n",
        "print(tuple2) #viewing the output\n",
        "print(\"\\n\")\n",
        "element=input(\"enter the element of the search\")\n",
        "print(\"\\n\")\n",
        "if element in tuple2:\n",
        "  print(\"yes, ths is present in the tuple\")\n",
        "else:\n",
        "  print(\"Sadly, the element is not there \")\n",
        "\n",
        "\n",
        "# print('5' in tuple2)"
      ]
    },
    {
      "cell_type": "markdown",
      "metadata": {
        "id": "vD5PYLMuGga_"
      },
      "source": [
        "(7) Write a Python program to find maximum and the minimum value in a set. (6 points)"
      ]
    },
    {
      "cell_type": "code",
      "execution_count": 6,
      "metadata": {
        "colab": {
          "base_uri": "https://localhost:8080/"
        },
        "id": "t0D5kdJUGjjw",
        "outputId": "5d07dbd6-39af-4789-d052-c37f9a797428"
      },
      "outputs": [
        {
          "output_type": "stream",
          "name": "stdout",
          "text": [
            "Enter the number separeted by space  2 n 3 k3\n",
            "\n",
            "\n",
            "<class 'set'>\n",
            "{'k3', '3', 'n', '2'}\n",
            "\n",
            "\n",
            "The maximum value in the set is  n\n",
            "The minimum value of the set is  2\n"
          ]
        }
      ],
      "source": [
        "set1=input(\"Enter the number separeted by space  \")\n",
        "print(\"\\n\")\n",
        "set2=set(set1.split(\" \"))\n",
        "print(type(set2)) #just checking data types\n",
        "print(set2) #viewing the output\n",
        "print(\"\\n\")\n",
        "print(\"The maximum value in the set is \" ,max(set2))\n",
        "print(\"The minimum value of the set is \",min(set2))"
      ]
    },
    {
      "cell_type": "markdown",
      "metadata": {
        "id": "zQamW11M0haC"
      },
      "source": [
        "(8) Write a Python program to find the duplicate elements in a given array of integers. Return -1 If there are no such elements. (8 points)"
      ]
    },
    {
      "cell_type": "code",
      "execution_count": 83,
      "metadata": {
        "colab": {
          "base_uri": "https://localhost:8080/"
        },
        "id": "qQ5zG0_B0haE",
        "outputId": "13737ae6-3315-4926-b2d4-1e617188f6c8"
      },
      "outputs": [
        {
          "output_type": "stream",
          "name": "stdout",
          "text": [
            "Duplicate elements in given array: \n",
            "[5, 6, 2]\n"
          ]
        }
      ],
      "source": [
        "arr = [1,2,3,4,5,8,5,5,6,6,2,2]    \n",
        "a1=[]     \n",
        "print(\"Duplicate elements in given array: \");    \n",
        "for i in range(0, len(arr)):    \n",
        "    for j in range(i+1, len(arr)):    \n",
        "        if(arr[i] == arr[j]):    \n",
        "            a1.append(arr[j]); \n",
        "        else:\n",
        "          break\n",
        "\n",
        "if len(a1)>0:\n",
        " print(a1)\n",
        "else:\n",
        "  print(\"-1\")"
      ]
    }
  ],
  "metadata": {
    "colab": {
      "collapsed_sections": [],
      "name": "lab_assignment_01.ipynb",
      "provenance": [],
      "include_colab_link": true
    },
    "kernelspec": {
      "display_name": "Python 3 (ipykernel)",
      "language": "python",
      "name": "python3"
    },
    "language_info": {
      "codemirror_mode": {
        "name": "ipython",
        "version": 3
      },
      "file_extension": ".py",
      "mimetype": "text/x-python",
      "name": "python",
      "nbconvert_exporter": "python",
      "pygments_lexer": "ipython3",
      "version": "3.9.12"
    },
    "vscode": {
      "interpreter": {
        "hash": "5c6a7f839effdddf35473dacbb9a8184e57ebbba5133cab03b12e4f28d4f0d0f"
      }
    },
    "accelerator": "GPU",
    "gpuClass": "standard"
  },
  "nbformat": 4,
  "nbformat_minor": 0
}